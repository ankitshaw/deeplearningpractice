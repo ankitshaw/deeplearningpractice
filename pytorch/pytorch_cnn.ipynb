{
  "nbformat": 4,
  "nbformat_minor": 0,
  "metadata": {
    "colab": {
      "name": "pytorch_cnn.ipynb",
      "provenance": [],
      "collapsed_sections": []
    },
    "kernelspec": {
      "name": "python3",
      "display_name": "Python 3"
    }
  },
  "cells": [
    {
      "cell_type": "code",
      "metadata": {
        "id": "j9OpGOMRqct3",
        "colab_type": "code",
        "colab": {}
      },
      "source": [
        "from tqdm import tqdm \n",
        "import os \n",
        "import cv2\n",
        "import numpy as np\n",
        "\n",
        "REBUILD_DATA = True"
      ],
      "execution_count": 0,
      "outputs": []
    },
    {
      "cell_type": "code",
      "metadata": {
        "id": "ei-PIVg9tTBS",
        "colab_type": "code",
        "colab": {
          "base_uri": "https://localhost:8080/",
          "height": 204
        },
        "outputId": "5ddd534e-944c-43a7-a417-65ff346fa1b8"
      },
      "source": [
        "!wget https://download.microsoft.com/download/3/E/1/3E1C3F21-ECDB-4869-8368-6DEBA77B919F/kagglecatsanddogs_3367a.zip"
      ],
      "execution_count": 2,
      "outputs": [
        {
          "output_type": "stream",
          "text": [
            "--2019-10-03 18:52:21--  https://download.microsoft.com/download/3/E/1/3E1C3F21-ECDB-4869-8368-6DEBA77B919F/kagglecatsanddogs_3367a.zip\n",
            "Resolving download.microsoft.com (download.microsoft.com)... 23.45.144.230, 2600:1407:2800:384::e59, 2600:1407:2800:380::e59\n",
            "Connecting to download.microsoft.com (download.microsoft.com)|23.45.144.230|:443... connected.\n",
            "HTTP request sent, awaiting response... 200 OK\n",
            "Length: 824894548 (787M) [application/octet-stream]\n",
            "Saving to: ‘kagglecatsanddogs_3367a.zip.1’\n",
            "\n",
            "kagglecatsanddogs_3 100%[===================>] 786.68M   121MB/s    in 6.8s    \n",
            "\n",
            "2019-10-03 18:52:28 (116 MB/s) - ‘kagglecatsanddogs_3367a.zip.1’ saved [824894548/824894548]\n",
            "\n"
          ],
          "name": "stdout"
        }
      ]
    },
    {
      "cell_type": "code",
      "metadata": {
        "id": "Pua48qRItj8m",
        "colab_type": "code",
        "colab": {
          "base_uri": "https://localhost:8080/",
          "height": 1000
        },
        "outputId": "c0cf3d43-8524-4fa3-e9a0-0b1c5ca60e3b"
      },
      "source": [
        "!unzip kagglecatsanddogs_3367a.zip"
      ],
      "execution_count": 3,
      "outputs": [
        {
          "output_type": "stream",
          "text": [
            "Archive:  kagglecatsanddogs_3367a.zip\n",
            "replace PetImages/Cat/0.jpg? [y]es, [n]o, [A]ll, [N]one, [r]ename: A\n",
            "  inflating: PetImages/Cat/0.jpg     \n",
            "  inflating: PetImages/Cat/1.jpg     \n",
            "..."
            "  inflating: PetImages/Cat/9998.jpg  \n",
            "  inflating: PetImages/Cat/9999.jpg  \n",
            "  inflating: PetImages/Cat/Thumbs.db  \n",
            "  inflating: PetImages/Dog/0.jpg     \n",
            "  inflating: PetImages/Dog/1.jpg     \n",
			".."
            "  inflating: PetImages/Dog/9998.jpg  \n",
            "  inflating: PetImages/Dog/9999.jpg  \n",
            "  inflating: PetImages/Dog/Thumbs.db  \n",
            "  inflating: MSR-LA - 3467.docx      \n",
            "  inflating: readme[1].txt           \n"
          ],
          "name": "stdout"
        }
      ]
    },
    {
      "cell_type": "code",
      "metadata": {
        "id": "uVQtuh0KuL35",
        "colab_type": "code",
        "colab": {
          "base_uri": "https://localhost:8080/",
          "height": 34
        },
        "outputId": "fd91ae05-b2a0-40f3-d811-b64f2fd0ea96"
      },
      "source": [
        "cd PetImages/\n"
      ],
      "execution_count": 4,
      "outputs": [
        {
          "output_type": "stream",
          "text": [
            "/content/PetImages\n"
          ],
          "name": "stdout"
        }
      ]
    },
    {
      "cell_type": "code",
      "metadata": {
        "id": "3qYEt4J9up48",
        "colab_type": "code",
        "colab": {
          "base_uri": "https://localhost:8080/",
          "height": 85
        },
        "outputId": "cac9c10e-a135-4942-9da5-c8c9a03fbbe9"
      },
      "source": [
        "ls -ltr"
      ],
      "execution_count": 5,
      "outputs": [
        {
          "output_type": "stream",
          "text": [
            "total 91884\n",
            "-rw-r--r-- 1 root root 93530814 Oct  3 18:48 training_data.npy\n",
            "drwxr-xr-x 2 root root   278528 Oct  3 18:53 \u001b[0m\u001b[01;34mCat\u001b[0m/\n",
            "drwxr-xr-x 2 root root   278528 Oct  3 18:53 \u001b[01;34mDog\u001b[0m/\n"
          ],
          "name": "stdout"
        }
      ]
    },
    {
      "cell_type": "code",
      "metadata": {
        "id": "3sWdTC8ju0xp",
        "colab_type": "code",
        "colab": {}
      },
      "source": [
        "class DogsVsCats():\n",
        "    IMG_SIZE = 50\n",
        "    CATS = \"Cat\"\n",
        "    DOGS = \"Dog\"\n",
        "    LABELS = {CATS: 0, DOGS: 1}\n",
        "    training_data = []\n",
        "    catcount = 0\n",
        "    dogcount = 0\n",
        "    \n",
        "    def make_training_data(self):\n",
        "        for label in self.LABELS:\n",
        "            print(label)\n",
        "            for f in tqdm(os.listdir(label)):\n",
        "                try:\n",
        "                    path = os.path.join(label, f)\n",
        "                    img = cv2.imread(path, cv2.IMREAD_GRAYSCALE)\n",
        "                    img = cv2.resize(img, (self.IMG_SIZE, self.IMG_SIZE))\n",
        "                    self.training_data.append([np.array(img), np.eye(2)[self.LABELS[label]]])\n",
        "                \n",
        "                    if label == self.CATS:\n",
        "                        self.catcount += 1\n",
        "                    elif label == self.DOGS:\n",
        "                        self.dogcount += 1\n",
        "                        \n",
        "                except Exception as e:\n",
        "                    pass\n",
        "                                  \n",
        "        np.random.shuffle(self.training_data)\n",
        "        np.save(\"training_data.npy\", self.training_data)\n",
        "        print(\"Cats: \", self.catcount)\n",
        "        print(\"Dogs: \", self.dogcount) \n",
        "        \n"
      ],
      "execution_count": 0,
      "outputs": []
    },
    {
      "cell_type": "code",
      "metadata": {
        "colab_type": "code",
        "outputId": "7e54e2ce-64d6-4629-b689-6e2ff69f9800",
        "id": "jOMhQ-G-3w3U",
        "colab": {
          "base_uri": "https://localhost:8080/",
          "height": 119
        }
      },
      "source": [
        "if REBUILD_DATA:\n",
        "    dogsvcats = DogsVsCats()\n",
        "    dogsvcats.make_training_data()"
      ],
      "execution_count": 7,
      "outputs": [
        {
          "output_type": "stream",
          "text": [
            "  1%|          | 91/12501 [00:00<00:13, 900.10it/s]"
          ],
          "name": "stderr"
        },
        {
          "output_type": "stream",
          "text": [
            "Cat\n"
          ],
          "name": "stdout"
        },
        {
          "output_type": "stream",
          "text": [
            "100%|██████████| 12501/12501 [00:12<00:00, 1020.34it/s]\n",
            "  1%|          | 95/12501 [00:00<00:13, 942.90it/s]"
          ],
          "name": "stderr"
        },
        {
          "output_type": "stream",
          "text": [
            "Dog\n"
          ],
          "name": "stdout"
        },
        {
          "output_type": "stream",
          "text": [
            "100%|██████████| 12501/12501 [00:13<00:00, 953.24it/s]\n"
          ],
          "name": "stderr"
        },
        {
          "output_type": "stream",
          "text": [
            "Cats:  12476\n",
            "Dogs:  12470\n"
          ],
          "name": "stdout"
        }
      ]
    },
    {
      "cell_type": "code",
      "metadata": {
        "id": "CsNwhu5o2KJ7",
        "colab_type": "code",
        "colab": {}
      },
      "source": [
        "training_data = np.load(\"training_data.npy\", allow_pickle=True)"
      ],
      "execution_count": 0,
      "outputs": []
    },
    {
      "cell_type": "code",
      "metadata": {
        "id": "f-9jaab02UDQ",
        "colab_type": "code",
        "colab": {
          "base_uri": "https://localhost:8080/",
          "height": 34
        },
        "outputId": "da489365-0217-4f02-e5d0-9ce7772dcd20"
      },
      "source": [
        "print(len(training_data))"
      ],
      "execution_count": 9,
      "outputs": [
        {
          "output_type": "stream",
          "text": [
            "24946\n"
          ],
          "name": "stdout"
        }
      ]
    },
    {
      "cell_type": "code",
      "metadata": {
        "id": "vbmqpw1X2Y15",
        "colab_type": "code",
        "colab": {
          "base_uri": "https://localhost:8080/",
          "height": 153
        },
        "outputId": "b74f7572-55ab-45cf-fd4d-5ba836709827"
      },
      "source": [
        "print(training_data[1])"
      ],
      "execution_count": 10,
      "outputs": [
        {
          "output_type": "stream",
          "text": [
            "[array([[ 38,  36,  23, ..., 230, 227, 215],\n",
            "       [ 40,  27,  30, ..., 236, 226, 167],\n",
            "       [ 46,  35,  25, ..., 229, 214, 158],\n",
            "       ...,\n",
            "       [111, 179, 206, ..., 201, 227, 213],\n",
            "       [214, 222, 223, ...,  43,  31, 154],\n",
            "       [217, 221, 222, ..., 157, 124,  99]], dtype=uint8)\n",
            " array([1., 0.])]\n"
          ],
          "name": "stdout"
        }
      ]
    },
    {
      "cell_type": "code",
      "metadata": {
        "id": "06OCMIj92gNr",
        "colab_type": "code",
        "colab": {
          "base_uri": "https://localhost:8080/",
          "height": 286
        },
        "outputId": "f01fc585-cce9-4a25-9aea-065293b4839a"
      },
      "source": [
        "import matplotlib.pyplot as plt\n",
        "plt.imshow(training_data[1][0], cmap=\"gray\")"
      ],
      "execution_count": 11,
      "outputs": [
        {
          "output_type": "execute_result",
          "data": {
            "text/plain": [
              "<matplotlib.image.AxesImage at 0x7f02cb7a5d68>"
            ]
          },
          "metadata": {
            "tags": []
          },
          "execution_count": 11
        },
        {
          "output_type": "display_data",
          "data": {
            "image/png": "iVBORw0KGgoAAAANSUhEUgAAAP4AAAD8CAYAAABXXhlaAAAABHNCSVQICAgIfAhkiAAAAAlwSFlz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\noj2PC4RcNhQAAAAASUVORK5CYII=\n",
            "text/plain": [
              "<Figure size 432x288 with 1 Axes>"
            ]
          },
          "metadata": {
            "tags": []
          }
        }
      ]
    },
    {
      "cell_type": "code",
      "metadata": {
        "id": "ZpwmpQlV9edd",
        "colab_type": "code",
        "colab": {
          "base_uri": "https://localhost:8080/",
          "height": 34
        },
        "outputId": "9e7decd4-8242-49f2-bb9b-f50394d6d9c5"
      },
      "source": [
        "training_data[1][1]"
      ],
      "execution_count": 12,
      "outputs": [
        {
          "output_type": "execute_result",
          "data": {
            "text/plain": [
              "array([1., 0.])"
            ]
          },
          "metadata": {
            "tags": []
          },
          "execution_count": 12
        }
      ]
    }
  ]
}