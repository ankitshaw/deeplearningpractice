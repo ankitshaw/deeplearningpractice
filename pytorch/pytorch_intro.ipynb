{
  "nbformat": 4,
  "nbformat_minor": 0,
  "metadata": {
    "colab": {
      "name": "pytorch_intro.ipynb",
      "provenance": []
    },
    "kernelspec": {
      "name": "python3",
      "display_name": "Python 3"
    },
    "accelerator": "GPU"
  },
  "cells": [
    {
      "cell_type": "code",
      "metadata": {
        "id": "_1sfxLa4eaJI",
        "colab_type": "code",
        "colab": {}
      },
      "source": [
        "import torch"
      ],
      "execution_count": 0,
      "outputs": []
    },
    {
      "cell_type": "code",
      "metadata": {
        "id": "h7jp5gi8erIx",
        "colab_type": "code",
        "colab": {}
      },
      "source": [
        "x = torch.tensor([1,2])\n",
        "y = torch.tensor([3,4])"
      ],
      "execution_count": 0,
      "outputs": []
    },
    {
      "cell_type": "code",
      "metadata": {
        "id": "IeTVx6WNe0RU",
        "colab_type": "code",
        "colab": {
          "base_uri": "https://localhost:8080/",
          "height": 34
        },
        "outputId": "5ae763e8-bc5b-4650-e8af-356cf7b124b1"
      },
      "source": [
        "print(x*y)"
      ],
      "execution_count": 3,
      "outputs": [
        {
          "output_type": "stream",
          "text": [
            "tensor([3, 8])\n"
          ],
          "name": "stdout"
        }
      ]
    },
    {
      "cell_type": "code",
      "metadata": {
        "id": "PKqQdOh6fHHc",
        "colab_type": "code",
        "colab": {
          "base_uri": "https://localhost:8080/",
          "height": 68
        },
        "outputId": "14c62314-1534-48fe-b7b4-ffb018d29591"
      },
      "source": [
        "x = torch.zeros([3,4])\n",
        "print(x)"
      ],
      "execution_count": 4,
      "outputs": [
        {
          "output_type": "stream",
          "text": [
            "tensor([[0., 0., 0., 0.],\n",
            "        [0., 0., 0., 0.],\n",
            "        [0., 0., 0., 0.]])\n"
          ],
          "name": "stdout"
        }
      ]
    },
    {
      "cell_type": "code",
      "metadata": {
        "id": "0MFuak3MfMYJ",
        "colab_type": "code",
        "colab": {
          "base_uri": "https://localhost:8080/",
          "height": 34
        },
        "outputId": "0d66de05-5d79-4af7-f70c-fedc5c436367"
      },
      "source": [
        "x.shape"
      ],
      "execution_count": 5,
      "outputs": [
        {
          "output_type": "execute_result",
          "data": {
            "text/plain": [
              "torch.Size([3, 4])"
            ]
          },
          "metadata": {
            "tags": []
          },
          "execution_count": 5
        }
      ]
    },
    {
      "cell_type": "code",
      "metadata": {
        "id": "LXjeACqafVZ6",
        "colab_type": "code",
        "colab": {
          "base_uri": "https://localhost:8080/",
          "height": 85
        },
        "outputId": "950bc0fb-8545-412a-a29b-b0700060a8d3"
      },
      "source": [
        "y = torch.rand([4,8])\n",
        "print(y)"
      ],
      "execution_count": 6,
      "outputs": [
        {
          "output_type": "stream",
          "text": [
            "tensor([[0.9544, 0.0342, 0.6851, 0.5822, 0.7935, 0.4456, 0.1526, 0.8647],\n",
            "        [0.6902, 0.0097, 0.2952, 0.1352, 0.0959, 0.5416, 0.0672, 0.4175],\n",
            "        [0.6413, 0.9672, 0.8147, 0.9910, 0.4149, 0.8251, 0.1746, 0.1744],\n",
            "        [0.4711, 0.3098, 0.4967, 0.3206, 0.8353, 0.2429, 0.7968, 0.3986]])\n"
          ],
          "name": "stdout"
        }
      ]
    },
    {
      "cell_type": "code",
      "metadata": {
        "id": "m5GqgElcffEm",
        "colab_type": "code",
        "colab": {
          "base_uri": "https://localhost:8080/",
          "height": 85
        },
        "outputId": "6f2a3cf4-5d05-484c-db81-4ba341c2fd7f"
      },
      "source": [
        "y = y.view([4,8])\n",
        "print(y)"
      ],
      "execution_count": 8,
      "outputs": [
        {
          "output_type": "stream",
          "text": [
            "tensor([[0.9544, 0.0342, 0.6851, 0.5822, 0.7935, 0.4456, 0.1526, 0.8647],\n",
            "        [0.6902, 0.0097, 0.2952, 0.1352, 0.0959, 0.5416, 0.0672, 0.4175],\n",
            "        [0.6413, 0.9672, 0.8147, 0.9910, 0.4149, 0.8251, 0.1746, 0.1744],\n",
            "        [0.4711, 0.3098, 0.4967, 0.3206, 0.8353, 0.2429, 0.7968, 0.3986]])\n"
          ],
          "name": "stdout"
        }
      ]
    },
    {
      "cell_type": "code",
      "metadata": {
        "id": "O2Q76pnQfxfT",
        "colab_type": "code",
        "colab": {
          "base_uri": "https://localhost:8080/",
          "height": 85
        },
        "outputId": "88d59da1-2672-4085-f91d-622b300d3998"
      },
      "source": [
        "y.view([2,16])"
      ],
      "execution_count": 9,
      "outputs": [
        {
          "output_type": "execute_result",
          "data": {
            "text/plain": [
              "tensor([[0.9544, 0.0342, 0.6851, 0.5822, 0.7935, 0.4456, 0.1526, 0.8647, 0.6902,\n",
              "         0.0097, 0.2952, 0.1352, 0.0959, 0.5416, 0.0672, 0.4175],\n",
              "        [0.6413, 0.9672, 0.8147, 0.9910, 0.4149, 0.8251, 0.1746, 0.1744, 0.4711,\n",
              "         0.3098, 0.4967, 0.3206, 0.8353, 0.2429, 0.7968, 0.3986]])"
            ]
          },
          "metadata": {
            "tags": []
          },
          "execution_count": 9
        }
      ]
    },
    {
      "cell_type": "code",
      "metadata": {
        "id": "zfkxR52Uf-AY",
        "colab_type": "code",
        "colab": {
          "base_uri": "https://localhost:8080/",
          "height": 85
        },
        "outputId": "6ab5e1f6-511a-4e7d-c638-3b1ddda647f5"
      },
      "source": [
        "print(y)"
      ],
      "execution_count": 10,
      "outputs": [
        {
          "output_type": "stream",
          "text": [
            "tensor([[0.9544, 0.0342, 0.6851, 0.5822, 0.7935, 0.4456, 0.1526, 0.8647],\n",
            "        [0.6902, 0.0097, 0.2952, 0.1352, 0.0959, 0.5416, 0.0672, 0.4175],\n",
            "        [0.6413, 0.9672, 0.8147, 0.9910, 0.4149, 0.8251, 0.1746, 0.1744],\n",
            "        [0.4711, 0.3098, 0.4967, 0.3206, 0.8353, 0.2429, 0.7968, 0.3986]])\n"
          ],
          "name": "stdout"
        }
      ]
    },
    {
      "cell_type": "code",
      "metadata": {
        "id": "26KxXaIWgDZc",
        "colab_type": "code",
        "colab": {
          "base_uri": "https://localhost:8080/",
          "height": 85
        },
        "outputId": "14ad0f12-f48a-4d10-b3bd-5b2bbaf2498c"
      },
      "source": [
        "y = y.view([2,16])\n",
        "print(y)"
      ],
      "execution_count": 11,
      "outputs": [
        {
          "output_type": "stream",
          "text": [
            "tensor([[0.9544, 0.0342, 0.6851, 0.5822, 0.7935, 0.4456, 0.1526, 0.8647, 0.6902,\n",
            "         0.0097, 0.2952, 0.1352, 0.0959, 0.5416, 0.0672, 0.4175],\n",
            "        [0.6413, 0.9672, 0.8147, 0.9910, 0.4149, 0.8251, 0.1746, 0.1744, 0.4711,\n",
            "         0.3098, 0.4967, 0.3206, 0.8353, 0.2429, 0.7968, 0.3986]])\n"
          ],
          "name": "stdout"
        }
      ]
    },
    {
      "cell_type": "code",
      "metadata": {
        "id": "Clt-AGEhhOrl",
        "colab_type": "code",
        "colab": {
          "base_uri": "https://localhost:8080/",
          "height": 51
        },
        "outputId": "26853808-2f8d-4485-bc01-918d41a34454"
      },
      "source": [
        "torch.randn([2,4])"
      ],
      "execution_count": 15,
      "outputs": [
        {
          "output_type": "execute_result",
          "data": {
            "text/plain": [
              "tensor([[ 0.3543, -0.3802,  2.0222, -0.3555],\n",
              "        [ 1.0480,  0.5094, -1.8351, -2.2779]])"
            ]
          },
          "metadata": {
            "tags": []
          },
          "execution_count": 15
        }
      ]
    }
  ]
}